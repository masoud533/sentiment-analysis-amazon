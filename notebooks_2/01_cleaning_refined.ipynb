{
 "cells": [
  {
   "cell_type": "code",
   "execution_count": 7,
   "id": "9eb8ae0b-cf12-424e-af04-6662c7a2fa95",
   "metadata": {},
   "outputs": [],
   "source": [
    "import os\n",
    "import pandas as pd\n",
    "import re\n",
    "import nltk\n",
    "import string\n",
    "import emoji\n",
    "from tqdm import tqdm\n",
    "from nltk.corpus import stopwords\n",
    "from nltk.stem import WordNetLemmatizer"
   ]
  },
  {
   "cell_type": "code",
   "execution_count": 8,
   "id": "db101e23-2b57-47e4-9f78-b274060ad2fe",
   "metadata": {},
   "outputs": [],
   "source": [
    "path = os.path.join('..', 'data', 'clean_reviews.csv')\n",
    "df = pd.read_csv(path)"
   ]
  },
  {
   "cell_type": "code",
   "execution_count": 12,
   "id": "f8149aa0-ad27-40dc-995a-f91e3d86988e",
   "metadata": {},
   "outputs": [],
   "source": [
    "stop_words = set(stopwords.words('english'))"
   ]
  },
  {
   "cell_type": "code",
   "execution_count": 9,
   "id": "6ed0131a-937a-4b55-9ae8-fd2a50e5edae",
   "metadata": {},
   "outputs": [],
   "source": [
    "df.dropna(subset=['Text'], inplace=True)\n",
    "df = df[df[\"Text\"].str.len() > 10] # remove reviews with less then 10 characters"
   ]
  },
  {
   "cell_type": "code",
   "execution_count": 10,
   "id": "5f11ed66-9e0e-4ebc-ae7d-c16dd7a69afc",
   "metadata": {},
   "outputs": [],
   "source": [
    "# Function: Clean individual text\n",
    "def clean_text(text):\n",
    "    text = text.lower()\n",
    "    text = re.sub(r\"http\\S+\", \"\", text)  # remove URLs\n",
    "    text = re.sub(r\"<.*?>\", \"\", text)    # remove HTML tags\n",
    "    text = emoji.replace_emoji(text, replace='')  # remove emojis\n",
    "    text = re.sub(r\"[^a-zA-Z\\s]\", \"\", text)       # keep only letters\n",
    "    text = re.sub(r\"\\s+\", \" \", text).strip()      # remove extra whitespace\n",
    "    text = \" \".join([word for word in text.split() if word not in stop_words])\n",
    "    return text"
   ]
  },
  {
   "cell_type": "code",
   "execution_count": 13,
   "id": "009f0183-d8c4-4768-b79f-47f6fbe667f2",
   "metadata": {},
   "outputs": [
    {
     "name": "stderr",
     "output_type": "stream",
     "text": [
      "100%|████████████████████████████████████████████████████████████████████| 393579/393579 [01:38<00:00, 4008.97it/s]\n"
     ]
    }
   ],
   "source": [
    "# Apply cleaning\n",
    "tqdm.pandas()\n",
    "df['cleaned_review'] = df['Text'].progress_apply(clean_text)"
   ]
  },
  {
   "cell_type": "code",
   "execution_count": null,
   "id": "2bbaa182-f0c7-4138-a501-806a96800599",
   "metadata": {},
   "outputs": [],
   "source": []
  }
 ],
 "metadata": {
  "kernelspec": {
   "display_name": "Python 3 (ipykernel)",
   "language": "python",
   "name": "python3"
  },
  "language_info": {
   "codemirror_mode": {
    "name": "ipython",
    "version": 3
   },
   "file_extension": ".py",
   "mimetype": "text/x-python",
   "name": "python",
   "nbconvert_exporter": "python",
   "pygments_lexer": "ipython3",
   "version": "3.12.7"
  }
 },
 "nbformat": 4,
 "nbformat_minor": 5
}
