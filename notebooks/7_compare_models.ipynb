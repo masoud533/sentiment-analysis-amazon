{
 "cells": [
  {
   "cell_type": "code",
   "execution_count": 1,
   "id": "90444964-43c8-418b-a3a4-fd1021c1545b",
   "metadata": {},
   "outputs": [],
   "source": [
    "import os\n",
    "import joblib\n",
    "from sklearn.linear_model import LogisticRegression\n",
    "from sklearn.ensemble import RandomForestClassifier\n",
    "# from xgboost import XGBClassifier\n",
    "from sklearn.metrics import classification_report, ConfusionMatrixDisplay\n",
    "from sklearn.model_selection import train_test_split\n",
    "import matplotlib.pyplot as plt"
   ]
  },
  {
   "cell_type": "code",
   "execution_count": 2,
   "id": "aaf91d77-a0a4-46d2-8ac5-ec7ede0eb750",
   "metadata": {},
   "outputs": [],
   "source": [
    "# Load pre-vectorized data\n",
    "x_path = os.path.join(\"..\",\"data\", \"X_tfidf_all.pkl\")\n",
    "X_tfidf = joblib.load(x_path)"
   ]
  },
  {
   "cell_type": "code",
   "execution_count": 3,
   "id": "799745d7-0b71-41f2-9b61-75395b23433d",
   "metadata": {},
   "outputs": [],
   "source": [
    "y_path = os.path.join(\"..\",\"data\", \"y_all.pkl\")\n",
    "y = joblib.load(y_path)"
   ]
  },
  {
   "cell_type": "code",
   "execution_count": 4,
   "id": "1db92425-2d3b-41f0-951f-a40075a8952a",
   "metadata": {},
   "outputs": [],
   "source": [
    "# Split data into training and testing sets\n",
    "X_train, X_test, y_train, y_test = train_test_split(\n",
    "    X_tfidf, y, test_size=0.2, stratify=y, random_state=1311\n",
    ")"
   ]
  },
  {
   "cell_type": "code",
   "execution_count": 5,
   "id": "04c6e0aa-08c8-44f3-886a-1a2610d81b4c",
   "metadata": {},
   "outputs": [
    {
     "name": "stdout",
     "output_type": "stream",
     "text": [
      " Logistic Regression \n",
      "              precision    recall  f1-score   support\n",
      "\n",
      "    negative       0.61      0.71      0.65     11413\n",
      "     neutral       0.23      0.57      0.33      5951\n",
      "    positive       0.96      0.80      0.87     61352\n",
      "\n",
      "    accuracy                           0.77     78716\n",
      "   macro avg       0.60      0.69      0.62     78716\n",
      "weighted avg       0.86      0.77      0.80     78716\n",
      "\n"
     ]
    }
   ],
   "source": [
    "# 1. Logistic Regression\n",
    "model_log = LogisticRegression(max_iter=1000, class_weight='balanced', random_state=1311)\n",
    "model_log.fit(X_train, y_train)\n",
    "y_pred_log = model_log.predict(X_test)\n",
    "print(\" Logistic Regression \")\n",
    "print(classification_report(y_test, y_pred_log))"
   ]
  },
  {
   "cell_type": "code",
   "execution_count": 6,
   "id": "ca96da61-0c4c-4389-8377-4fe96d64ae55",
   "metadata": {},
   "outputs": [
    {
     "name": "stdout",
     "output_type": "stream",
     "text": [
      "\n",
      "=== Random Forest ===\n",
      "              precision    recall  f1-score   support\n",
      "\n",
      "    negative       0.82      0.36      0.50     11413\n",
      "     neutral       0.55      0.02      0.05      5951\n",
      "    positive       0.83      0.99      0.90     61352\n",
      "\n",
      "    accuracy                           0.83     78716\n",
      "   macro avg       0.73      0.46      0.48     78716\n",
      "weighted avg       0.81      0.83      0.78     78716\n",
      "\n"
     ]
    }
   ],
   "source": [
    "# 2. Random Forest\n",
    "model_rf = RandomForestClassifier(class_weight='balanced', random_state=1311, n_jobs=-1)\n",
    "model_rf.fit(X_train, y_train)\n",
    "y_pred_rf = model_rf.predict(X_test)\n",
    "print(\"\\n=== Random Forest ===\")\n",
    "print(classification_report(y_test, y_pred_rf))"
   ]
  },
  {
   "cell_type": "code",
   "execution_count": null,
   "id": "21f9b3ec-e681-4f75-ab41-386beca90350",
   "metadata": {},
   "outputs": [],
   "source": [
    "# 3. XGBoost\n",
    "model_xgb = XGBClassifier(use_label_encoder=False, eval_metric='mlogloss', random_state=1311)\n",
    "model_xgb.fit(X_train, y_train)\n",
    "y_pred_xgb = model_xgb.predict(X_test)\n",
    "print(\"\\n=== XGBoost ===\")\n",
    "print(classification_report(y_test, y_pred_xgb))"
   ]
  }
 ],
 "metadata": {
  "kernelspec": {
   "display_name": "Python 3 (ipykernel)",
   "language": "python",
   "name": "python3"
  },
  "language_info": {
   "codemirror_mode": {
    "name": "ipython",
    "version": 3
   },
   "file_extension": ".py",
   "mimetype": "text/x-python",
   "name": "python",
   "nbconvert_exporter": "python",
   "pygments_lexer": "ipython3",
   "version": "3.12.7"
  }
 },
 "nbformat": 4,
 "nbformat_minor": 5
}
