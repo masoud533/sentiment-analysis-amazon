{
 "cells": [
  {
   "cell_type": "code",
   "execution_count": 2,
   "id": "6436ea83-c5de-437a-818b-9c2e90a1670e",
   "metadata": {},
   "outputs": [],
   "source": [
    "import os\n",
    "import pandas as pd \n",
    "import matplotlib.pyplot as plt \n",
    "import seaborn as sns\n",
    "from wordcloud import WordCloud\n",
    "import numpy as np"
   ]
  },
  {
   "cell_type": "code",
   "execution_count": 4,
   "id": "395c7141-303b-4fa9-b818-019553561ea3",
   "metadata": {},
   "outputs": [],
   "source": [
    "sns.set(style='whitegrid')\n",
    "plt.rcParams['figure.figsize'] = (10,6)"
   ]
  },
  {
   "cell_type": "code",
   "execution_count": 3,
   "id": "b7b56ec0-1752-4315-9f81-5798687b255b",
   "metadata": {},
   "outputs": [],
   "source": [
    "path = os.path.join('..', 'data', 'final_cleaned_reviews.csv')\n",
    "df = pd.read_csv(path)"
   ]
  },
  {
   "cell_type": "code",
   "execution_count": 6,
   "id": "170611e7-d8eb-481c-a484-4bcb64c708d6",
   "metadata": {},
   "outputs": [
    {
     "name": "stdout",
     "output_type": "stream",
     "text": [
      "Shape:  (393579, 2)\n",
      "=================\n",
      "Sentiment\n",
      "positive    306758\n",
      "negative     57067\n",
      "neutral      29754\n",
      "Name: count, dtype: int64\n",
      "=================\n",
      "Clean_Text    1\n",
      "Sentiment     0\n",
      "dtype: int64\n"
     ]
    }
   ],
   "source": [
    "print(\"Shape: \", df.shape)\n",
    "print('=================')\n",
    "print(df['Sentiment'].value_counts())\n",
    "print('=================')\n",
    "print(df.isnull().sum())"
   ]
  },
  {
   "cell_type": "code",
   "execution_count": 8,
   "id": "51515c8a-dedc-483d-bfc8-4d8be3ec3fab",
   "metadata": {},
   "outputs": [
    {
     "data": {
      "image/png": "[encoded data removed]",
      "text/plain": [
       "<Figure size 1000x600 with 1 Axes>"
      ]
     },
     "metadata": {},
     "output_type": "display_data"
    }
   ],
   "source": [
    "class_dist = df['Sentiment'].value_counts(normalize=True) * 100\n",
    "\n",
    "sns.barplot(x=class_dist.index, y=class_dist.values)\n",
    "plt.title(\"Sentiment Distribution (%)\")\n",
    "plt.ylabel(\"Parcentage\")\n",
    "plt.xlabel(\"Sentiment\")\n",
    "plt.show()"
   ]
  },
  {
   "cell_type": "code",
   "execution_count": 10,
   "id": "3e8b43ea-dbd8-4b53-9f05-18f91f6cde8a",
   "metadata": {},
   "outputs": [
    {
     "data": {
      "text/html": [
       "<div>\n",
       "<style scoped>\n",
       "    .dataframe tbody tr th:only-of-type {\n",
       "        vertical-align: middle;\n",
       "    }\n",
       "\n",
       "    .dataframe tbody tr th {\n",
       "        vertical-align: top;\n",
       "    }\n",
       "\n",
       "    .dataframe thead th {\n",
       "        text-align: right;\n",
       "    }\n",
       "</style>\n",
       "<table border=\"1\" class=\"dataframe\">\n",
       "  <thead>\n",
       "    <tr style=\"text-align: right;\">\n",
       "      <th></th>\n",
       "      <th>Clean_Text</th>\n",
       "      <th>Sentiment</th>\n",
       "    </tr>\n",
       "  </thead>\n",
       "  <tbody>\n",
       "    <tr>\n",
       "      <th>0</th>\n",
       "      <td>bought several vitality canned dog food produc...</td>\n",
       "      <td>positive</td>\n",
       "    </tr>\n",
       "    <tr>\n",
       "      <th>1</th>\n",
       "      <td>product arrived labeled jumbo salted peanutsth...</td>\n",
       "      <td>negative</td>\n",
       "    </tr>\n",
       "    <tr>\n",
       "      <th>2</th>\n",
       "      <td>confection around century light pillowy citrus...</td>\n",
       "      <td>positive</td>\n",
       "    </tr>\n",
       "    <tr>\n",
       "      <th>3</th>\n",
       "      <td>looking secret ingredient robitussin believe f...</td>\n",
       "      <td>negative</td>\n",
       "    </tr>\n",
       "    <tr>\n",
       "      <th>4</th>\n",
       "      <td>great taffy great price wide assortment yummy ...</td>\n",
       "      <td>positive</td>\n",
       "    </tr>\n",
       "    <tr>\n",
       "      <th>...</th>\n",
       "      <td>...</td>\n",
       "      <td>...</td>\n",
       "    </tr>\n",
       "    <tr>\n",
       "      <th>393574</th>\n",
       "      <td>great sesame chickenthis good better resturant...</td>\n",
       "      <td>positive</td>\n",
       "    </tr>\n",
       "    <tr>\n",
       "      <th>393575</th>\n",
       "      <td>im disappointed flavor chocolate note especial...</td>\n",
       "      <td>negative</td>\n",
       "    </tr>\n",
       "    <tr>\n",
       "      <th>393576</th>\n",
       "      <td>star small give one training session tried tra...</td>\n",
       "      <td>positive</td>\n",
       "    </tr>\n",
       "    <tr>\n",
       "      <th>393577</th>\n",
       "      <td>best treat training rewarding dog good groomin...</td>\n",
       "      <td>positive</td>\n",
       "    </tr>\n",
       "    <tr>\n",
       "      <th>393578</th>\n",
       "      <td>satisfied product advertised use cereal raw vi...</td>\n",
       "      <td>positive</td>\n",
       "    </tr>\n",
       "  </tbody>\n",
       "</table>\n",
       "<p>393579 rows × 2 columns</p>\n",
       "</div>"
      ],
      "text/plain": [
       "                                               Clean_Text Sentiment\n",
       "0       bought several vitality canned dog food produc...  positive\n",
       "1       product arrived labeled jumbo salted peanutsth...  negative\n",
       "2       confection around century light pillowy citrus...  positive\n",
       "3       looking secret ingredient robitussin believe f...  negative\n",
       "4       great taffy great price wide assortment yummy ...  positive\n",
       "...                                                   ...       ...\n",
       "393574  great sesame chickenthis good better resturant...  positive\n",
       "393575  im disappointed flavor chocolate note especial...  negative\n",
       "393576  star small give one training session tried tra...  positive\n",
       "393577  best treat training rewarding dog good groomin...  positive\n",
       "393578  satisfied product advertised use cereal raw vi...  positive\n",
       "\n",
       "[393579 rows x 2 columns]"
      ]
     },
     "execution_count": 10,
     "metadata": {},
     "output_type": "execute_result"
    }
   ],
   "source": [
    "df"
   ]
  },
  {
   "cell_type": "code",
   "execution_count": 11,
   "id": "858c2650-cca6-425f-a4dd-189fe0a912f8",
   "metadata": {},
   "outputs": [],
   "source": [
    "# add text length\n",
    "df['Clean_Text'] = df['Clean_Text'].fillna('') \n",
    "df[\"Text_length\"] = df['Clean_Text'].apply(lambda x: len(x.split()))"
   ]
  },
  {
   "cell_type": "code",
   "execution_count": null,
   "id": "fcb7d219-9cbe-4bcb-9bbb-2e42b1039d08",
   "metadata": {},
   "outputs": [],
   "source": []
  },
  {
   "cell_type": "code",
   "execution_count": null,
   "id": "bd0ed5c3-114e-4bc8-8307-3a144ecbd4a1",
   "metadata": {},
   "outputs": [],
   "source": []
  },
  {
   "cell_type": "code",
   "execution_count": null,
   "id": "782a9cfa-e413-452d-b8eb-3959a63e63ab",
   "metadata": {},
   "outputs": [],
   "source": []
  },
  {
   "cell_type": "code",
   "execution_count": null,
   "id": "efd3b24d-640b-4574-9268-0055da39188a",
   "metadata": {},
   "outputs": [],
   "source": []
  },
  {
   "cell_type": "code",
   "execution_count": null,
   "id": "c6afca54-b55a-4ce8-90a8-c85654457f1e",
   "metadata": {},
   "outputs": [],
   "source": []
  }
 ],
 "metadata": {
  "kernelspec": {
   "display_name": "Python 3 (ipykernel)",
   "language": "python",
   "name": "python3"
  },
  "language_info": {
   "codemirror_mode": {
    "name": "ipython",
    "version": 3
   },
   "file_extension": ".py",
   "mimetype": "text/x-python",
   "name": "python",
   "nbconvert_exporter": "python",
   "pygments_lexer": "ipython3",
   "version": "3.12.7"
  }
 },
 "nbformat": 4,
 "nbformat_minor": 5
}
