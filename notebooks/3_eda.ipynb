{
 "cells": [
  {
   "cell_type": "code",
   "execution_count": null,
   "id": "6436ea83-c5de-437a-818b-9c2e90a1670e",
   "metadata": {},
   "outputs": [],
   "source": []
  }
 ],
 "metadata": {
  "kernelspec": {
   "display_name": "",
   "name": ""
  },
  "language_info": {
   "name": ""
  }
 },
 "nbformat": 4,
 "nbformat_minor": 5
}
