{
 "cells": [
  {
   "cell_type": "code",
   "execution_count": 1,
   "id": "3d185196-622e-4bf7-8c08-453f24e6e192",
   "metadata": {},
   "outputs": [],
   "source": [
    "import os\n",
    "import joblib\n",
    "from sklearn.ensemble import RandomForestClassifier\n",
    "from sklearn.model_selection import GridSearchCV\n",
    "from sklearn.metrics import classification_report\n",
    "from sklearn.model_selection import train_test_split"
   ]
  },
  {
   "cell_type": "code",
   "execution_count": 2,
   "id": "36154fe0-ec7b-42bf-99c6-ebf4a9afd452",
   "metadata": {},
   "outputs": [],
   "source": [
    "# Load pre-vectorized data\n",
    "x_path = os.path.join(\"..\",\"data\", \"X_tfidf_all.pkl\")\n",
    "X_tfidf = joblib.load(x_path)"
   ]
  },
  {
   "cell_type": "code",
   "execution_count": 3,
   "id": "8e066b13-f6b3-44e6-936c-273b6c7a5c72",
   "metadata": {},
   "outputs": [],
   "source": [
    "y_path = os.path.join(\"..\",\"data\", \"y_all.pkl\")\n",
    "y = joblib.load(y_path)"
   ]
  },
  {
   "cell_type": "code",
   "execution_count": 4,
   "id": "87271641-5baa-44a3-9529-b3aba86a88cd",
   "metadata": {},
   "outputs": [],
   "source": [
    "# Split data into training and testing sets\n",
    "X_train, X_test, y_train, y_test = train_test_split(\n",
    "    X_tfidf, y, test_size=0.2, stratify=y, random_state=1311\n",
    ")"
   ]
  },
  {
   "cell_type": "code",
   "execution_count": 5,
   "id": "f4012cbb-d7a8-44e0-8d71-8052dc9d1ddb",
   "metadata": {},
   "outputs": [],
   "source": [
    "# Define parameter grid\n",
    "param_grid = {\n",
    "    'n_estimators': [100, 200],\n",
    "    'max_depth': [None, 20, 50],\n",
    "    'min_samples_split': [2, 5],\n",
    "    'min_samples_leaf': [1, 2],\n",
    "    'class_weight': ['balanced']\n",
    "}"
   ]
  },
  {
   "cell_type": "code",
   "execution_count": 6,
   "id": "d8d7d235-5225-48c6-8cd3-de588f56d38f",
   "metadata": {},
   "outputs": [],
   "source": [
    "# Create and run GridSearchCV\n",
    "model = RandomForestClassifier(random_state=42)\n",
    "grid_search = GridSearchCV(estimator=model, param_grid=param_grid,\n",
    "                           cv=3, n_jobs=-1, scoring='f1_macro', verbose=2)"
   ]
  },
  {
   "cell_type": "code",
   "execution_count": null,
   "id": "4dc38d8d-76f9-453e-a7a7-6cd6ea304955",
   "metadata": {},
   "outputs": [
    {
     "name": "stdout",
     "output_type": "stream",
     "text": [
      "Fitting 3 folds for each of 24 candidates, totalling 72 fits\n"
     ]
    }
   ],
   "source": [
    "grid_search.fit(X_train, y_train)"
   ]
  },
  {
   "cell_type": "code",
   "execution_count": null,
   "id": "f1f947c0-9303-40ca-a474-ee0643e31016",
   "metadata": {},
   "outputs": [],
   "source": [
    "# Output best parameters\n",
    "print(\"Best Parameters:\\n\", grid_search.best_params_)\n",
    "print(\"\\nBest Score:\", grid_search.best_score_)"
   ]
  },
  {
   "cell_type": "code",
   "execution_count": null,
   "id": "2192ed96-0be2-49ac-be96-4902c3f6951f",
   "metadata": {},
   "outputs": [],
   "source": []
  }
 ],
 "metadata": {
  "kernelspec": {
   "display_name": "Python 3 (ipykernel)",
   "language": "python",
   "name": "python3"
  },
  "language_info": {
   "codemirror_mode": {
    "name": "ipython",
    "version": 3
   },
   "file_extension": ".py",
   "mimetype": "text/x-python",
   "name": "python",
   "nbconvert_exporter": "python",
   "pygments_lexer": "ipython3",
   "version": "3.12.7"
  }
 },
 "nbformat": 4,
 "nbformat_minor": 5
}
