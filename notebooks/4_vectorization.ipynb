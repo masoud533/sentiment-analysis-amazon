{
 "cells": [
  {
   "cell_type": "code",
   "execution_count": 1,
   "id": "9531d838-364c-4fea-9bcd-84b7d1aca323",
   "metadata": {},
   "outputs": [],
   "source": [
    "import os\n",
    "import pandas as pd\n",
    "import joblib\n",
    "from sklearn.feature_extraction.text import CountVectorizer, TfidfVectorizer"
   ]
  },
  {
   "cell_type": "code",
   "execution_count": 2,
   "id": "1a6acc01-c9e7-4b73-8392-45911e7250fc",
   "metadata": {},
   "outputs": [],
   "source": [
    "path = os.path.join('..', 'data', 'final_cleaned_reviews.csv')\n",
    "df = pd.read_csv(path)\n",
    "df['Clean_Text'] = df['Clean_Text'].fillna('')"
   ]
  },
  {
   "cell_type": "code",
   "execution_count": 3,
   "id": "d13dee67-6c6a-443a-88dc-f071a9658ea9",
   "metadata": {},
   "outputs": [],
   "source": [
    "X_text = df['Clean_Text']\n",
    "y = df['Sentiment'].values"
   ]
  },
  {
   "cell_type": "code",
   "execution_count": 4,
   "id": "7881872f-eacd-42de-a9af-f2f0b4eae22c",
   "metadata": {},
   "outputs": [],
   "source": [
    "# ----- Bag of Words \n",
    "bow_vectorizer = CountVectorizer(max_features=5000)\n",
    "X_bow = bow_vectorizer.fit_transform(X_text)"
   ]
  },
  {
   "cell_type": "code",
   "execution_count": 5,
   "id": "2f2dba66-6916-4042-bfb8-12e5fcb6f367",
   "metadata": {},
   "outputs": [
    {
     "ename": "FileNotFoundError",
     "evalue": "[Errno 2] No such file or directory: '../models/bow_vectorizer.pkl'",
     "output_type": "error",
     "traceback": [
      "\u001b[0;31m---------------------------------------------------------------------------\u001b[0m",
      "\u001b[0;31mFileNotFoundError\u001b[0m                         Traceback (most recent call last)",
      "Cell \u001b[0;32mIn[5], line 5\u001b[0m\n\u001b[1;32m      2\u001b[0m bow_vectorizer \u001b[38;5;241m=\u001b[39m os\u001b[38;5;241m.\u001b[39mpath\u001b[38;5;241m.\u001b[39mjoin(\u001b[38;5;124m'\u001b[39m\u001b[38;5;124m..\u001b[39m\u001b[38;5;124m'\u001b[39m, \u001b[38;5;124m'\u001b[39m\u001b[38;5;124mmodels\u001b[39m\u001b[38;5;124m'\u001b[39m, \u001b[38;5;124m'\u001b[39m\u001b[38;5;124mbow_vectorizer.pkl\u001b[39m\u001b[38;5;124m'\u001b[39m)\n\u001b[1;32m      4\u001b[0m joblib\u001b[38;5;241m.\u001b[39mdump(X_bow, X_bow_all)\n\u001b[0;32m----> 5\u001b[0m joblib\u001b[38;5;241m.\u001b[39mdump(bow_vectorizer, bow_vectorizer)\n\u001b[1;32m      7\u001b[0m \u001b[38;5;28mprint\u001b[39m(\u001b[38;5;124m\"\u001b[39m\u001b[38;5;124mBoW vectorization complete. Shape:\u001b[39m\u001b[38;5;124m\"\u001b[39m, X_bow\u001b[38;5;241m.\u001b[39mshape)\n",
      "File \u001b[0;32m~/tools/anaconda3/lib/python3.12/site-packages/joblib/numpy_pickle.py:552\u001b[0m, in \u001b[0;36mdump\u001b[0;34m(value, filename, compress, protocol, cache_size)\u001b[0m\n\u001b[1;32m    550\u001b[0m         NumpyPickler(f, protocol\u001b[38;5;241m=\u001b[39mprotocol)\u001b[38;5;241m.\u001b[39mdump(value)\n\u001b[1;32m    551\u001b[0m \u001b[38;5;28;01melif\u001b[39;00m is_filename:\n\u001b[0;32m--> 552\u001b[0m     \u001b[38;5;28;01mwith\u001b[39;00m \u001b[38;5;28mopen\u001b[39m(filename, \u001b[38;5;124m'\u001b[39m\u001b[38;5;124mwb\u001b[39m\u001b[38;5;124m'\u001b[39m) \u001b[38;5;28;01mas\u001b[39;00m f:\n\u001b[1;32m    553\u001b[0m         NumpyPickler(f, protocol\u001b[38;5;241m=\u001b[39mprotocol)\u001b[38;5;241m.\u001b[39mdump(value)\n\u001b[1;32m    554\u001b[0m \u001b[38;5;28;01melse\u001b[39;00m:\n",
      "\u001b[0;31mFileNotFoundError\u001b[0m: [Errno 2] No such file or directory: '../models/bow_vectorizer.pkl'"
     ]
    }
   ],
   "source": [
    "X_bow_all = os.path.join('..', 'data', 'X_bow_all.pkl')\n",
    "bow_vectorizer = os.path.join('..', 'models', 'bow_vectorizer.pkl')\n",
    "\n",
    "joblib.dump(X_bow, X_bow_all)\n",
    "joblib.dump(bow_vectorizer, bow_vectorizer)\n",
    "\n",
    "print(\"BoW vectorization complete. Shape:\", X_bow.shape)"
   ]
  },
  {
   "cell_type": "code",
   "execution_count": null,
   "id": "80482192-80ba-4ada-ac38-6126a1a5b599",
   "metadata": {},
   "outputs": [],
   "source": [
    "tfidf_vectorizer = TfidfVectorizer(max_features=5000)\n",
    "X_tfidf = tfidf_vectorizer.fit_transform(X_text)"
   ]
  },
  {
   "cell_type": "code",
   "execution_count": null,
   "id": "6443cbe6-9442-4d6f-9e86-8c16ceb01cc0",
   "metadata": {},
   "outputs": [],
   "source": [
    "X_tfidf_all = os.path.join('..', 'data', 'X_tfidf_all.pkl')\n",
    "tfidf_vectorizer = os.path.join('..', 'models', 'tfidf_vectorizer.pkl')\n",
    "\n",
    "joblib.dump(X_tfidf, X_tfidf_all)\n",
    "joblib.dump(tfidf_vectorizer, tfidf_vectorizer)\n",
    "\n",
    "print(\"TF-IDF vectorization complete. Shape:\", X_tfidf.shape)"
   ]
  },
  {
   "cell_type": "code",
   "execution_count": null,
   "id": "cbeeeb7d-61b5-47a8-b403-b252ad9ef113",
   "metadata": {},
   "outputs": [],
   "source": [
    "y_all = os.path.join('..', 'data', 'y_all.pkl')\n",
    "\n",
    "joblib.dump(y, y_all)\n",
    "\n",
    "print(\"All data saved successfully.\")"
   ]
  }
 ],
 "metadata": {
  "kernelspec": {
   "display_name": "Python 3 (ipykernel)",
   "language": "python",
   "name": "python3"
  },
  "language_info": {
   "codemirror_mode": {
    "name": "ipython",
    "version": 3
   },
   "file_extension": ".py",
   "mimetype": "text/x-python",
   "name": "python",
   "nbconvert_exporter": "python",
   "pygments_lexer": "ipython3",
   "version": "3.12.7"
  }
 },
 "nbformat": 4,
 "nbformat_minor": 5
}
