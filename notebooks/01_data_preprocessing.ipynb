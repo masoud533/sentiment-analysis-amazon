{
 "cells": [
  {
   "cell_type": "code",
   "execution_count": 1,
   "id": "c4e1e90d-6399-4428-8451-7cbd3ad6a95e",
   "metadata": {},
   "outputs": [],
   "source": [
    "import os\n",
    "import pandas as pd"
   ]
  },
  {
   "cell_type": "code",
   "execution_count": null,
   "id": "6d3030ec-b97b-47f5-9b0d-53b757718a04",
   "metadata": {},
   "outputs": [],
   "source": [
    "path = os.path.join('..', 'data', 'Reviews.csv')\n",
    "df = pd.read_scv(path)"
   ]
  },
  {
   "cell_type": "code",
   "execution_count": null,
   "id": "82d4a7a1-c940-46ce-9e29-485b8aa43de4",
   "metadata": {},
   "outputs": [],
   "source": [
    "print(df.shape)\n",
    "print(df.columns)"
   ]
  },
  {
   "cell_type": "code",
   "execution_count": null,
   "id": "da6d211f-94b4-472c-bd58-8f283f2c0f0f",
   "metadata": {},
   "outputs": [],
   "source": [
    "df['Score'].value_counts()"
   ]
  },
  {
   "cell_type": "code",
   "execution_count": null,
   "id": "dab862a1-9281-4070-88d1-4d79ba308083",
   "metadata": {},
   "outputs": [],
   "source": [
    "def label_sentiment(score):\n",
    "    if score <= 2:\n",
    "        return 'negative'\n",
    "    elif score == 3:\n",
    "        return 'neutral'\n",
    "    else:\n",
    "        return 'positive'"
   ]
  },
  {
   "cell_type": "code",
   "execution_count": null,
   "id": "a77fc595-a41d-48ec-855a-e53d8a912b0c",
   "metadata": {},
   "outputs": [],
   "source": [
    "df['Sentiment'] = df[\"score\"].apply(label_sentiment)"
   ]
  },
  {
   "cell_type": "code",
   "execution_count": null,
   "id": "09c6f649-c467-4f4d-b09e-76a13e5f8751",
   "metadata": {},
   "outputs": [],
   "source": [
    "df['Sentiment']"
   ]
  }
 ],
 "metadata": {
  "kernelspec": {
   "display_name": "Python 3 (ipykernel)",
   "language": "python",
   "name": "python3"
  },
  "language_info": {
   "codemirror_mode": {
    "name": "ipython",
    "version": 3
   },
   "file_extension": ".py",
   "mimetype": "text/x-python",
   "name": "python",
   "nbconvert_exporter": "python",
   "pygments_lexer": "ipython3",
   "version": "3.12.7"
  }
 },
 "nbformat": 4,
 "nbformat_minor": 5
}
